{
 "cells": [
  {
   "cell_type": "code",
   "execution_count": 2,
   "metadata": {},
   "outputs": [],
   "source": [
    "import pandas as pd"
   ]
  },
  {
   "cell_type": "code",
   "execution_count": 3,
   "metadata": {},
   "outputs": [],
   "source": [
    "import seaborn as sns"
   ]
  },
  {
   "cell_type": "code",
   "execution_count": 4,
   "metadata": {},
   "outputs": [],
   "source": [
    "import numpy as np"
   ]
  },
  {
   "cell_type": "code",
   "execution_count": 5,
   "metadata": {},
   "outputs": [],
   "source": [
    "df = pd.read_csv(\"testing_standard_buffer.csv\")"
   ]
  },
  {
   "cell_type": "code",
   "execution_count": 6,
   "metadata": {},
   "outputs": [
    {
     "data": {
      "text/html": [
       "<div>\n",
       "<style scoped>\n",
       "    .dataframe tbody tr th:only-of-type {\n",
       "        vertical-align: middle;\n",
       "    }\n",
       "\n",
       "    .dataframe tbody tr th {\n",
       "        vertical-align: top;\n",
       "    }\n",
       "\n",
       "    .dataframe thead th {\n",
       "        text-align: right;\n",
       "    }\n",
       "</style>\n",
       "<table border=\"1\" class=\"dataframe\">\n",
       "  <thead>\n",
       "    <tr style=\"text-align: right;\">\n",
       "      <th></th>\n",
       "      <th>name</th>\n",
       "      <th>buffer_area_ac</th>\n",
       "      <th>buffer_area_square_m</th>\n",
       "      <th>buffer_perimeter_m</th>\n",
       "      <th>buffer_length</th>\n",
       "      <th>buffer_width</th>\n",
       "      <th>burnt_area_ac</th>\n",
       "      <th>urban_burnt_overlay_ac</th>\n",
       "    </tr>\n",
       "  </thead>\n",
       "  <tbody>\n",
       "    <tr>\n",
       "      <th>0</th>\n",
       "      <td>testing_buffer_0</td>\n",
       "      <td>1995.700000</td>\n",
       "      <td>8.076530e+06</td>\n",
       "      <td>25312.90837</td>\n",
       "      <td>24657.81963</td>\n",
       "      <td>327.544369</td>\n",
       "      <td>17787.01999</td>\n",
       "      <td>9333.432387</td>\n",
       "    </tr>\n",
       "    <tr>\n",
       "      <th>1</th>\n",
       "      <td>testing_buffer_1</td>\n",
       "      <td>3972.207758</td>\n",
       "      <td>1.607495e+07</td>\n",
       "      <td>26647.93453</td>\n",
       "      <td>25381.25530</td>\n",
       "      <td>633.339616</td>\n",
       "      <td>20026.46994</td>\n",
       "      <td>11244.495980</td>\n",
       "    </tr>\n",
       "    <tr>\n",
       "      <th>2</th>\n",
       "      <td>testing_buffer_2</td>\n",
       "      <td>1039.000000</td>\n",
       "      <td>4.206657e+06</td>\n",
       "      <td>24667.29547</td>\n",
       "      <td>24321.37278</td>\n",
       "      <td>172.961347</td>\n",
       "      <td>19357.00498</td>\n",
       "      <td>10781.571450</td>\n",
       "    </tr>\n",
       "    <tr>\n",
       "      <th>3</th>\n",
       "      <td>testing_buffer_3</td>\n",
       "      <td>2395.689687</td>\n",
       "      <td>9.695012e+06</td>\n",
       "      <td>25583.05108</td>\n",
       "      <td>24801.23416</td>\n",
       "      <td>390.908458</td>\n",
       "      <td>21088.88549</td>\n",
       "      <td>10922.452210</td>\n",
       "    </tr>\n",
       "    <tr>\n",
       "      <th>4</th>\n",
       "      <td>testing_buffer_4</td>\n",
       "      <td>5638.607821</td>\n",
       "      <td>2.281864e+07</td>\n",
       "      <td>27773.53035</td>\n",
       "      <td>26019.57089</td>\n",
       "      <td>876.979731</td>\n",
       "      <td>15670.85957</td>\n",
       "      <td>8595.431233</td>\n",
       "    </tr>\n",
       "    <tr>\n",
       "      <th>5</th>\n",
       "      <td>testing_buffer_5</td>\n",
       "      <td>8608.003480</td>\n",
       "      <td>3.483535e+07</td>\n",
       "      <td>29779.25461</td>\n",
       "      <td>27219.68379</td>\n",
       "      <td>1279.785409</td>\n",
       "      <td>11506.03520</td>\n",
       "      <td>3881.946082</td>\n",
       "    </tr>\n",
       "    <tr>\n",
       "      <th>6</th>\n",
       "      <td>testing_buffer_6</td>\n",
       "      <td>10145.873190</td>\n",
       "      <td>4.105889e+07</td>\n",
       "      <td>30818.03252</td>\n",
       "      <td>27871.76066</td>\n",
       "      <td>1473.135930</td>\n",
       "      <td>10185.92052</td>\n",
       "      <td>4073.786916</td>\n",
       "    </tr>\n",
       "    <tr>\n",
       "      <th>7</th>\n",
       "      <td>testing_buffer_7</td>\n",
       "      <td>11692.513710</td>\n",
       "      <td>4.731792e+07</td>\n",
       "      <td>31862.73479</td>\n",
       "      <td>28547.73053</td>\n",
       "      <td>1657.502132</td>\n",
       "      <td>11754.97130</td>\n",
       "      <td>4106.290995</td>\n",
       "    </tr>\n",
       "    <tr>\n",
       "      <th>8</th>\n",
       "      <td>testing_buffer_8</td>\n",
       "      <td>7022.777024</td>\n",
       "      <td>2.842017e+07</td>\n",
       "      <td>28708.48903</td>\n",
       "      <td>26569.15324</td>\n",
       "      <td>1069.667898</td>\n",
       "      <td>15519.03972</td>\n",
       "      <td>7203.897208</td>\n",
       "    </tr>\n",
       "    <tr>\n",
       "      <th>9</th>\n",
       "      <td>testing_no_buffer</td>\n",
       "      <td>0.000000</td>\n",
       "      <td>0.000000e+00</td>\n",
       "      <td>0.00000</td>\n",
       "      <td>0.00000</td>\n",
       "      <td>0.000000</td>\n",
       "      <td>25336.77794</td>\n",
       "      <td>13740.814350</td>\n",
       "    </tr>\n",
       "    <tr>\n",
       "      <th>10</th>\n",
       "      <td>satellite_ground_truth</td>\n",
       "      <td>0.000000</td>\n",
       "      <td>0.000000e+00</td>\n",
       "      <td>0.00000</td>\n",
       "      <td>0.00000</td>\n",
       "      <td>0.000000</td>\n",
       "      <td>26645.25857</td>\n",
       "      <td>16401.130760</td>\n",
       "    </tr>\n",
       "  </tbody>\n",
       "</table>\n",
       "</div>"
      ],
      "text/plain": [
       "                      name  buffer_area_ac  buffer_area_square_m  \\\n",
       "0         testing_buffer_0     1995.700000          8.076530e+06   \n",
       "1         testing_buffer_1     3972.207758          1.607495e+07   \n",
       "2         testing_buffer_2     1039.000000          4.206657e+06   \n",
       "3         testing_buffer_3     2395.689687          9.695012e+06   \n",
       "4         testing_buffer_4     5638.607821          2.281864e+07   \n",
       "5         testing_buffer_5     8608.003480          3.483535e+07   \n",
       "6         testing_buffer_6    10145.873190          4.105889e+07   \n",
       "7         testing_buffer_7    11692.513710          4.731792e+07   \n",
       "8         testing_buffer_8     7022.777024          2.842017e+07   \n",
       "9        testing_no_buffer        0.000000          0.000000e+00   \n",
       "10  satellite_ground_truth        0.000000          0.000000e+00   \n",
       "\n",
       "    buffer_perimeter_m  buffer_length  buffer_width  burnt_area_ac  \\\n",
       "0          25312.90837    24657.81963    327.544369    17787.01999   \n",
       "1          26647.93453    25381.25530    633.339616    20026.46994   \n",
       "2          24667.29547    24321.37278    172.961347    19357.00498   \n",
       "3          25583.05108    24801.23416    390.908458    21088.88549   \n",
       "4          27773.53035    26019.57089    876.979731    15670.85957   \n",
       "5          29779.25461    27219.68379   1279.785409    11506.03520   \n",
       "6          30818.03252    27871.76066   1473.135930    10185.92052   \n",
       "7          31862.73479    28547.73053   1657.502132    11754.97130   \n",
       "8          28708.48903    26569.15324   1069.667898    15519.03972   \n",
       "9              0.00000        0.00000      0.000000    25336.77794   \n",
       "10             0.00000        0.00000      0.000000    26645.25857   \n",
       "\n",
       "    urban_burnt_overlay_ac  \n",
       "0              9333.432387  \n",
       "1             11244.495980  \n",
       "2             10781.571450  \n",
       "3             10922.452210  \n",
       "4              8595.431233  \n",
       "5              3881.946082  \n",
       "6              4073.786916  \n",
       "7              4106.290995  \n",
       "8              7203.897208  \n",
       "9             13740.814350  \n",
       "10            16401.130760  "
      ]
     },
     "execution_count": 6,
     "metadata": {},
     "output_type": "execute_result"
    }
   ],
   "source": [
    "df"
   ]
  },
  {
   "cell_type": "code",
   "execution_count": 7,
   "metadata": {},
   "outputs": [
    {
     "data": {
      "text/html": [
       "<div>\n",
       "<style scoped>\n",
       "    .dataframe tbody tr th:only-of-type {\n",
       "        vertical-align: middle;\n",
       "    }\n",
       "\n",
       "    .dataframe tbody tr th {\n",
       "        vertical-align: top;\n",
       "    }\n",
       "\n",
       "    .dataframe thead th {\n",
       "        text-align: right;\n",
       "    }\n",
       "</style>\n",
       "<table border=\"1\" class=\"dataframe\">\n",
       "  <thead>\n",
       "    <tr style=\"text-align: right;\">\n",
       "      <th></th>\n",
       "      <th>name</th>\n",
       "      <th>buffer_area_ac</th>\n",
       "      <th>buffer_area_square_m</th>\n",
       "      <th>buffer_perimeter_m</th>\n",
       "      <th>buffer_length</th>\n",
       "      <th>buffer_width</th>\n",
       "      <th>burnt_area_ac</th>\n",
       "      <th>urban_burnt_overlay_ac</th>\n",
       "    </tr>\n",
       "  </thead>\n",
       "  <tbody>\n",
       "    <tr>\n",
       "      <th>0</th>\n",
       "      <td>testing_buffer_0</td>\n",
       "      <td>1995.700000</td>\n",
       "      <td>8.076530e+06</td>\n",
       "      <td>25312.90837</td>\n",
       "      <td>24657.81963</td>\n",
       "      <td>327.544369</td>\n",
       "      <td>17787.01999</td>\n",
       "      <td>9333.432387</td>\n",
       "    </tr>\n",
       "    <tr>\n",
       "      <th>1</th>\n",
       "      <td>testing_buffer_1</td>\n",
       "      <td>3972.207758</td>\n",
       "      <td>1.607495e+07</td>\n",
       "      <td>26647.93453</td>\n",
       "      <td>25381.25530</td>\n",
       "      <td>633.339616</td>\n",
       "      <td>20026.46994</td>\n",
       "      <td>11244.495980</td>\n",
       "    </tr>\n",
       "    <tr>\n",
       "      <th>2</th>\n",
       "      <td>testing_buffer_2</td>\n",
       "      <td>1039.000000</td>\n",
       "      <td>4.206657e+06</td>\n",
       "      <td>24667.29547</td>\n",
       "      <td>24321.37278</td>\n",
       "      <td>172.961347</td>\n",
       "      <td>19357.00498</td>\n",
       "      <td>10781.571450</td>\n",
       "    </tr>\n",
       "    <tr>\n",
       "      <th>3</th>\n",
       "      <td>testing_buffer_3</td>\n",
       "      <td>2395.689687</td>\n",
       "      <td>9.695012e+06</td>\n",
       "      <td>25583.05108</td>\n",
       "      <td>24801.23416</td>\n",
       "      <td>390.908458</td>\n",
       "      <td>21088.88549</td>\n",
       "      <td>10922.452210</td>\n",
       "    </tr>\n",
       "    <tr>\n",
       "      <th>4</th>\n",
       "      <td>testing_buffer_4</td>\n",
       "      <td>5638.607821</td>\n",
       "      <td>2.281864e+07</td>\n",
       "      <td>27773.53035</td>\n",
       "      <td>26019.57089</td>\n",
       "      <td>876.979731</td>\n",
       "      <td>15670.85957</td>\n",
       "      <td>8595.431233</td>\n",
       "    </tr>\n",
       "    <tr>\n",
       "      <th>5</th>\n",
       "      <td>testing_buffer_5</td>\n",
       "      <td>8608.003480</td>\n",
       "      <td>3.483535e+07</td>\n",
       "      <td>29779.25461</td>\n",
       "      <td>27219.68379</td>\n",
       "      <td>1279.785409</td>\n",
       "      <td>11506.03520</td>\n",
       "      <td>3881.946082</td>\n",
       "    </tr>\n",
       "    <tr>\n",
       "      <th>6</th>\n",
       "      <td>testing_buffer_6</td>\n",
       "      <td>10145.873190</td>\n",
       "      <td>4.105889e+07</td>\n",
       "      <td>30818.03252</td>\n",
       "      <td>27871.76066</td>\n",
       "      <td>1473.135930</td>\n",
       "      <td>10185.92052</td>\n",
       "      <td>4073.786916</td>\n",
       "    </tr>\n",
       "    <tr>\n",
       "      <th>7</th>\n",
       "      <td>testing_buffer_7</td>\n",
       "      <td>11692.513710</td>\n",
       "      <td>4.731792e+07</td>\n",
       "      <td>31862.73479</td>\n",
       "      <td>28547.73053</td>\n",
       "      <td>1657.502132</td>\n",
       "      <td>11754.97130</td>\n",
       "      <td>4106.290995</td>\n",
       "    </tr>\n",
       "    <tr>\n",
       "      <th>8</th>\n",
       "      <td>testing_buffer_8</td>\n",
       "      <td>7022.777024</td>\n",
       "      <td>2.842017e+07</td>\n",
       "      <td>28708.48903</td>\n",
       "      <td>26569.15324</td>\n",
       "      <td>1069.667898</td>\n",
       "      <td>15519.03972</td>\n",
       "      <td>7203.897208</td>\n",
       "    </tr>\n",
       "    <tr>\n",
       "      <th>9</th>\n",
       "      <td>testing_no_buffer</td>\n",
       "      <td>0.000000</td>\n",
       "      <td>0.000000e+00</td>\n",
       "      <td>0.00000</td>\n",
       "      <td>0.00000</td>\n",
       "      <td>0.000000</td>\n",
       "      <td>25336.77794</td>\n",
       "      <td>13740.814350</td>\n",
       "    </tr>\n",
       "  </tbody>\n",
       "</table>\n",
       "</div>"
      ],
      "text/plain": [
       "                name  buffer_area_ac  buffer_area_square_m  \\\n",
       "0   testing_buffer_0     1995.700000          8.076530e+06   \n",
       "1   testing_buffer_1     3972.207758          1.607495e+07   \n",
       "2   testing_buffer_2     1039.000000          4.206657e+06   \n",
       "3   testing_buffer_3     2395.689687          9.695012e+06   \n",
       "4   testing_buffer_4     5638.607821          2.281864e+07   \n",
       "5   testing_buffer_5     8608.003480          3.483535e+07   \n",
       "6   testing_buffer_6    10145.873190          4.105889e+07   \n",
       "7   testing_buffer_7    11692.513710          4.731792e+07   \n",
       "8   testing_buffer_8     7022.777024          2.842017e+07   \n",
       "9  testing_no_buffer        0.000000          0.000000e+00   \n",
       "\n",
       "   buffer_perimeter_m  buffer_length  buffer_width  burnt_area_ac  \\\n",
       "0         25312.90837    24657.81963    327.544369    17787.01999   \n",
       "1         26647.93453    25381.25530    633.339616    20026.46994   \n",
       "2         24667.29547    24321.37278    172.961347    19357.00498   \n",
       "3         25583.05108    24801.23416    390.908458    21088.88549   \n",
       "4         27773.53035    26019.57089    876.979731    15670.85957   \n",
       "5         29779.25461    27219.68379   1279.785409    11506.03520   \n",
       "6         30818.03252    27871.76066   1473.135930    10185.92052   \n",
       "7         31862.73479    28547.73053   1657.502132    11754.97130   \n",
       "8         28708.48903    26569.15324   1069.667898    15519.03972   \n",
       "9             0.00000        0.00000      0.000000    25336.77794   \n",
       "\n",
       "   urban_burnt_overlay_ac  \n",
       "0             9333.432387  \n",
       "1            11244.495980  \n",
       "2            10781.571450  \n",
       "3            10922.452210  \n",
       "4             8595.431233  \n",
       "5             3881.946082  \n",
       "6             4073.786916  \n",
       "7             4106.290995  \n",
       "8             7203.897208  \n",
       "9            13740.814350  "
      ]
     },
     "execution_count": 7,
     "metadata": {},
     "output_type": "execute_result"
    }
   ],
   "source": [
    "df[:10]"
   ]
  },
  {
   "cell_type": "code",
   "execution_count": 8,
   "metadata": {},
   "outputs": [
    {
     "data": {
      "text/plain": [
       "<matplotlib.axes._subplots.AxesSubplot at 0x1a1c6b6c10>"
      ]
     },
     "execution_count": 8,
     "metadata": {},
     "output_type": "execute_result"
    },
    {
     "data": {
      "image/png": "[encoded data removed]",
      "text/plain": [
       "<Figure size 432x288 with 1 Axes>"
      ]
     },
     "metadata": {
      "needs_background": "light"
     },
     "output_type": "display_data"
    }
   ],
   "source": [
    "sns.scatterplot(x=\"buffer_area_ac\",y=\"urban_burnt_overlay_ac\",data=df[:10])"
   ]
  },
  {
   "cell_type": "code",
   "execution_count": 9,
   "metadata": {},
   "outputs": [
    {
     "data": {
      "text/plain": [
       "<matplotlib.axes._subplots.AxesSubplot at 0x1a1c6b6990>"
      ]
     },
     "execution_count": 9,
     "metadata": {},
     "output_type": "execute_result"
    },
    {
     "data": {
      "image/png": "[encoded data removed]",
      "text/plain": [
       "<Figure size 432x288 with 1 Axes>"
      ]
     },
     "metadata": {
      "needs_background": "light"
     },
     "output_type": "display_data"
    }
   ],
   "source": [
    "sns.scatterplot(x=\"buffer_area_ac\",y=\"urban_burnt_overlay_ac\",data=df)"
   ]
  },
  {
   "cell_type": "code",
   "execution_count": 10,
   "metadata": {},
   "outputs": [
    {
     "data": {
      "text/plain": [
       "<matplotlib.axes._subplots.AxesSubplot at 0x1a1cf45d50>"
      ]
     },
     "execution_count": 10,
     "metadata": {},
     "output_type": "execute_result"
    },
    {
     "data": {
      "image/png": "[encoded data removed]",
      "text/plain": [
       "<Figure size 432x288 with 1 Axes>"
      ]
     },
     "metadata": {
      "needs_background": "light"
     },
     "output_type": "display_data"
    }
   ],
   "source": [
    "sns.scatterplot(x=\"buffer_width\",y=\"urban_burnt_overlay_ac\",data=df[:10])"
   ]
  },
  {
   "cell_type": "code",
   "execution_count": null,
   "metadata": {},
   "outputs": [],
   "source": []
  },
  {
   "cell_type": "code",
   "execution_count": null,
   "metadata": {},
   "outputs": [],
   "source": []
  }
 ],
 "metadata": {
  "kernelspec": {
   "display_name": "Python 3",
   "language": "python",
   "name": "python3"
  },
  "language_info": {
   "codemirror_mode": {
    "name": "ipython",
    "version": 3
   },
   "file_extension": ".py",
   "mimetype": "text/x-python",
   "name": "python",
   "nbconvert_exporter": "python",
   "pygments_lexer": "ipython3",
   "version": "3.7.6"
  }
 },
 "nbformat": 4,
 "nbformat_minor": 4
}
